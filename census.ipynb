{
 "cells": [
  {
   "cell_type": "code",
   "execution_count": null,
   "metadata": {},
   "outputs": [],
   "source": [
    "import openpyxl"
   ]
  },
  {
   "cell_type": "code",
   "execution_count": null,
   "metadata": {},
   "outputs": [],
   "source": [
    "#opening and selection of the active spreadsheet\n",
    "census = openpyxl.load_workbook('C:\\\\Users\\\\Neorix\\\\Desktop\\\\git\\\\Census-report\\\\censuspopdata.xlsx')\n",
    "census.sheetnames #total sheets\n",
    "sheet = census.active #active sheet selection\n",
    "\n",
    "sheet.max_row, sheet.max_column\n",
    "\n"
   ]
  },
  {
   "cell_type": "code",
   "execution_count": null,
   "metadata": {},
   "outputs": [],
   "source": [
    "maximum = 0 #maximum population store varible\n",
    "entire = 0 # total population storage variable\n",
    "final = sheet.max_row + 1\n",
    "\n",
    "for i in  range(2, final):\n",
    "    pop = sheet.cell(row = i , column = 4).value\n",
    "    entire += pop\n",
    "    \n",
    "    if pop > maximum:\n",
    "        maximum = pop\n",
    "        co = sheet.cell(row = i, column = 4).coordinate\n",
    "        county = sheet.cell(row = i, column = 3).value\n",
    "        state = sheet.cell(row = i, column = 2).value\n",
    "        tract = sheet.cell(row = i, column = 1).value\n",
    "            \n",
    "'Total Population is %s, Highest population %s in %s County,%s Census Tract of %s'  % (entire, maximum, county, state, tract)\n"
   ]
  },
  {
   "cell_type": "code",
   "execution_count": null,
   "metadata": {},
   "outputs": [],
   "source": []
  }
 ],
 "metadata": {
  "language_info": {
   "name": "python"
  },
  "orig_nbformat": 4
 },
 "nbformat": 4,
 "nbformat_minor": 2
}
